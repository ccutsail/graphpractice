{
 "cells": [
  {
   "cell_type": "code",
   "execution_count": null,
   "metadata": {
    "collapsed": true
   },
   "outputs": [],
   "source": [
    "︠5ce7eee5-0935-43d2-9bed-9d85d1bb20b3s︠\n",
    "g = graphs.CompleteMultipartiteGraph([4, 7, 15]); \n",
    "for k in range(0,4):\n",
    "    for i in range(12,26):\n",
    "        f = k - 1; l = k + 1\n",
    "        g.delete_edge(k,i);\n",
    "        g.delete_edge(k,l);\n",
    "        g.delete_edge(k,f);\n",
    "    end\n",
    "end\n",
    "while g.average_degree() > 4:\n",
    "    g.delete_edge(randrange(4,11),randrange(11,26));\n",
    "    g.delete_edge(randrange(0,4),randrange(4,10));\n",
    "end\n",
    "\n",
    "plot(g)\n",
    "import csv\n",
    "reader=csv.reader(open('votedata.csv'));\n",
    "data = []\n",
    "for row in reader:\n",
    "     data.append(row);\n",
    "appdat = csv.reader(open('appvotedata.csv'));\n",
    "for row in appdat:\n",
    "    data.append(row);\n",
    "end\n",
    "\n",
    "\n",
    "plot(g)\n",
    "\n",
    "g.allow_multiple_edges(False);\n",
    "plot(g.complement())\n"
   ]
  }
 ],
 "metadata": {
  "kernelspec": {
   "display_name": "Python 3",
   "language": "python",
   "name": "python3"
  },
  "language_info": {
   "codemirror_mode": {
    "name": "ipython",
    "version": 3
   },
   "file_extension": ".py",
   "mimetype": "text/x-python",
   "name": "python",
   "nbconvert_exporter": "python",
   "pygments_lexer": "ipython3",
   "version": "3.5.1"
  }
 },
 "nbformat": 4,
 "nbformat_minor": 0
}
